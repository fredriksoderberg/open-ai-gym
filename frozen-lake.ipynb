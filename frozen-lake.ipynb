{
 "cells": [
  {
   "cell_type": "code",
   "execution_count": 41,
   "metadata": {},
   "outputs": [],
   "source": [
    "import gym\n",
    "import numpy as np\n",
    "import tensorflow as tf\n",
    "import matplotlib.pyplot as plt\n",
    "%matplotlib inline"
   ]
  },
  {
   "cell_type": "markdown",
   "metadata": {},
   "source": [
    "### Q-table"
   ]
  },
  {
   "cell_type": "code",
   "execution_count": 2,
   "metadata": {},
   "outputs": [
    {
     "name": "stderr",
     "output_type": "stream",
     "text": [
      "[2018-02-21 12:10:10,048] Making new env: FrozenLake-v0\n"
     ]
    }
   ],
   "source": [
    "environment = gym.make('FrozenLake-v0')"
   ]
  },
  {
   "cell_type": "code",
   "execution_count": 49,
   "metadata": {},
   "outputs": [],
   "source": [
    "#Initialization\n",
    "Q_table = np.zeros([environment.observation_space.n, environment.action_space.n])\n",
    "learning_rate = 0.8\n",
    "gamma = 0.95\n",
    "number_of_episodes = 2000\n",
    "\n",
    "#Rewards\n",
    "rewards_list = []\n",
    "\n",
    "#Algorithm\n",
    "for i in range(number_of_episodes) :\n",
    "    state = environment.reset()\n",
    "    all_rewards = 0\n",
    "    done = False\n",
    "    step = 0\n",
    "    while(step < 99) :\n",
    "        step += 1\n",
    "        #Choose action greedily\n",
    "        action = np.argmax(Q_table[state,:] + np.random.randn(1, environment.action_space.n) * (1.0 / (i + 1)))\n",
    "        #Get next state and reward from environment\n",
    "        next_state, reward, done, _ = environment.step(action)\n",
    "        #Update Q-Table with new knowledge\n",
    "        Q_table[state, action] = Q_table[state, action] + \\\n",
    "            learning_rate * (reward + gamma * np.max(Q_table[next_state,:]) - Q_table[state, action])\n",
    "        all_rewards += reward\n",
    "        state = next_state\n",
    "        if done == True:\n",
    "            break   \n",
    "    rewards_list.append(all_rewards)"
   ]
  },
  {
   "cell_type": "code",
   "execution_count": 50,
   "metadata": {},
   "outputs": [
    {
     "name": "stdout",
     "output_type": "stream",
     "text": [
      "Total score over all episodes: 0.5485\n"
     ]
    }
   ],
   "source": [
    "print(\"Total score over all episodes: \" + str(sum(rewards_list) / number_of_episodes))"
   ]
  },
  {
   "cell_type": "code",
   "execution_count": 26,
   "metadata": {},
   "outputs": [
    {
     "name": "stdout",
     "output_type": "stream",
     "text": [
      "Final Q-table\n",
      "[[  2.11798189e-01   6.38349938e-03   6.14916583e-03   6.43297620e-03]\n",
      " [  1.36716665e-03   1.14366161e-04   4.48867159e-05   2.30736191e-01]\n",
      " [  9.14618348e-03   2.08268001e-03   0.00000000e+00   2.72559481e-01]\n",
      " [  0.00000000e+00   5.17179477e-03   0.00000000e+00   1.13091572e-01]\n",
      " [  3.49668437e-01   1.26903425e-03   5.26101937e-03   6.67301057e-03]\n",
      " [  0.00000000e+00   0.00000000e+00   0.00000000e+00   0.00000000e+00]\n",
      " [  2.72906720e-01   1.80345635e-06   9.02045240e-04   6.84848815e-05]\n",
      " [  0.00000000e+00   0.00000000e+00   0.00000000e+00   0.00000000e+00]\n",
      " [  0.00000000e+00   1.39450799e-03   0.00000000e+00   6.09844808e-01]\n",
      " [  4.49534377e-03   5.39880186e-01   0.00000000e+00   1.06073696e-02]\n",
      " [  9.07139349e-01   1.28586708e-03   0.00000000e+00   0.00000000e+00]\n",
      " [  0.00000000e+00   0.00000000e+00   0.00000000e+00   0.00000000e+00]\n",
      " [  0.00000000e+00   0.00000000e+00   0.00000000e+00   0.00000000e+00]\n",
      " [  0.00000000e+00   0.00000000e+00   7.57610759e-01   0.00000000e+00]\n",
      " [  0.00000000e+00   9.70477176e-01   0.00000000e+00   0.00000000e+00]\n",
      " [  0.00000000e+00   0.00000000e+00   0.00000000e+00   0.00000000e+00]]\n"
     ]
    }
   ],
   "source": [
    "print(\"Final Q-table\")\n",
    "print(Q_table)"
   ]
  },
  {
   "cell_type": "markdown",
   "metadata": {},
   "source": [
    "### Running one game"
   ]
  },
  {
   "cell_type": "code",
   "execution_count": 39,
   "metadata": {},
   "outputs": [
    {
     "name": "stdout",
     "output_type": "stream",
     "text": [
      "Current state: 0 Reward: 0\n",
      "Current state: 4 Reward: 0.0\n",
      "Current state: 0 Reward: 0.0\n",
      "Current state: 0 Reward: 0.0\n",
      "Current state: 4 Reward: 0.0\n",
      "Current state: 4 Reward: 0.0\n",
      "Current state: 4 Reward: 0.0\n",
      "Current state: 8 Reward: 0.0\n",
      "Current state: 9 Reward: 0.0\n",
      "Current state: 10 Reward: 0.0\n",
      "Current state: 9 Reward: 0.0\n",
      "Current state: 8 Reward: 0.0\n",
      "Current state: 8 Reward: 0.0\n",
      "Current state: 8 Reward: 0.0\n",
      "Current state: 9 Reward: 0.0\n",
      "Current state: 8 Reward: 0.0\n",
      "Current state: 4 Reward: 0.0\n",
      "Current state: 0 Reward: 0.0\n",
      "Current state: 4 Reward: 0.0\n",
      "Current state: 4 Reward: 0.0\n",
      "Current state: 0 Reward: 0.0\n",
      "Current state: 0 Reward: 0.0\n",
      "Current state: 4 Reward: 0.0\n",
      "Current state: 0 Reward: 0.0\n",
      "Current state: 4 Reward: 0.0\n",
      "Current state: 8 Reward: 0.0\n",
      "Current state: 4 Reward: 0.0\n",
      "Current state: 8 Reward: 0.0\n",
      "Current state: 9 Reward: 0.0\n",
      "Current state: 13 Reward: 0.0\n",
      "Current state: 13 Reward: 0.0\n",
      "Current state: 14 Reward: 0.0\n",
      "Current state: 15 Reward: 1.0\n"
     ]
    }
   ],
   "source": [
    "state = environment.reset()\n",
    "print(\"Current state: \" + str(state) + \" Reward: 0\")\n",
    "done = False\n",
    "while(done == False) :\n",
    "    action = np.argmax(Q_table[state, :])\n",
    "    state, reward, done, _ = environment.step(action)\n",
    "    print(\"Current state: \"+ str(state) + \" Reward: \" + str(reward))"
   ]
  },
  {
   "cell_type": "markdown",
   "metadata": {},
   "source": [
    "### Q-network"
   ]
  },
  {
   "cell_type": "code",
   "execution_count": 71,
   "metadata": {},
   "outputs": [
    {
     "name": "stderr",
     "output_type": "stream",
     "text": [
      "[2018-02-22 08:55:05,392] Making new env: FrozenLake-v0\n"
     ]
    }
   ],
   "source": [
    "environment = gym.make(\"FrozenLake-v0\")"
   ]
  },
  {
   "cell_type": "markdown",
   "metadata": {},
   "source": [
    "### Setting up network"
   ]
  },
  {
   "cell_type": "code",
   "execution_count": 72,
   "metadata": {},
   "outputs": [
    {
     "data": {
      "text/plain": [
       "<function tensorflow.python.framework.ops.reset_default_graph>"
      ]
     },
     "execution_count": 72,
     "metadata": {},
     "output_type": "execute_result"
    }
   ],
   "source": [
    "tf.reset_default_graph"
   ]
  },
  {
   "cell_type": "code",
   "execution_count": 73,
   "metadata": {},
   "outputs": [],
   "source": [
    "inputs = tf.placeholder(shape=[1, 16], dtype=tf.float32)\n",
    "W = tf.Variable(tf.random_uniform([16, 4], 0, 0.01))\n",
    "q_outputs = tf.matmul(inputs, W)\n",
    "prediction = tf.argmax(q_outputs, 1)\n",
    "\n",
    "next_q = tf.placeholder(shape=[1,4], dtype=tf.float32)\n",
    "loss = tf.reduce_sum(tf.square(next_q - q_outputs))\n",
    "optimizer = tf.train.GradientDescentOptimizer(learning_rate=0.1)\n",
    "training_optimize = optimizer.minimize(loss)"
   ]
  },
  {
   "cell_type": "markdown",
   "metadata": {},
   "source": [
    "### Training network"
   ]
  },
  {
   "cell_type": "code",
   "execution_count": 74,
   "metadata": {},
   "outputs": [
    {
     "name": "stdout",
     "output_type": "stream",
     "text": [
      "On episode: 0\n",
      "On episode: 100\n",
      "On episode: 200\n",
      "On episode: 300\n",
      "On episode: 400\n",
      "On episode: 500\n",
      "On episode: 600\n",
      "On episode: 700\n",
      "On episode: 800\n",
      "On episode: 900\n",
      "On episode: 1000\n",
      "On episode: 1100\n",
      "On episode: 1200\n",
      "On episode: 1300\n",
      "On episode: 1400\n",
      "On episode: 1500\n",
      "On episode: 1600\n",
      "On episode: 1700\n",
      "On episode: 1800\n",
      "On episode: 1900\n",
      "Succesful episodes: 23.549999999999997%\n"
     ]
    }
   ],
   "source": [
    "init = tf.global_variables_initializer()\n",
    "\n",
    "gamma = 0.99\n",
    "epsilon = 0.1\n",
    "number_of_episodes = 2000\n",
    "\n",
    "steps_list = []\n",
    "rewards_list = []\n",
    "\n",
    "with tf.Session() as sess :\n",
    "    sess.run(init)\n",
    "    for i in range(number_of_episodes) :\n",
    "        state = environment.reset()\n",
    "        all_rewards = 0\n",
    "        step = 0\n",
    "        done = False\n",
    "        \n",
    "        if(i % 100 == 0) :\n",
    "            print(\"On episode: \" + str(i))\n",
    "        \n",
    "        while(step < 99) :\n",
    "            step += 1\n",
    "            \n",
    "            #Choose action greedily\n",
    "            action, all_q_values = \\\n",
    "                sess.run([prediction, q_outputs], feed_dict={inputs : np.identity(16)[state : state + 1]})\n",
    "            if np.random.rand(1) < epsilon :\n",
    "                action[0] = environment.action_space.sample()\n",
    "            \n",
    "            #Get new state\n",
    "            next_state, reward, done, _ = environment.step(action[0])\n",
    "            \n",
    "            #Obtain Q values for next state\n",
    "            next_q_values = sess.run(q_outputs, feed_dict={inputs : np.identity(16)[next_state : next_state + 1]})\n",
    "            \n",
    "            #Get max q value and set target\n",
    "            max_q = np.max(next_q_values)\n",
    "            target_q = all_q_values\n",
    "            target_q[0, action[0]] = reward + gamma * max_q\n",
    "            \n",
    "            #Train network\n",
    "            _, next_W = \\\n",
    "                sess.run([training_optimize, W], feed_dict={inputs : np.identity(16)[state : state + 1], next_q : target_q})\n",
    "            all_rewards += reward\n",
    "            state = next_state\n",
    "            \n",
    "            if done == True :\n",
    "                #Reduce chance of random action\n",
    "                e = 1.0 / ((i / 50) + 10)\n",
    "                break\n",
    "        steps_list.append(step)\n",
    "        rewards_list.append(all_rewards)\n",
    "print(\"Succesful episodes: \" + str((sum(rewards_list) / number_of_episodes) * 100) + \"%\")"
   ]
  },
  {
   "cell_type": "markdown",
   "metadata": {},
   "source": [
    "### Analysis"
   ]
  },
  {
   "cell_type": "code",
   "execution_count": 75,
   "metadata": {},
   "outputs": [
    {
     "data": {
      "text/plain": [
       "[<matplotlib.lines.Line2D at 0x116519a58>]"
      ]
     },
     "execution_count": 75,
     "metadata": {},
     "output_type": "execute_result"
    },
    {
     "data": {
      "image/png": "[encoded data removed]",
      "text/plain": [
       "<matplotlib.figure.Figure at 0x10ed9acc0>"
      ]
     },
     "metadata": {},
     "output_type": "display_data"
    }
   ],
   "source": [
    "#Reward per episode\n",
    "plt.plot(rewards_list)"
   ]
  },
  {
   "cell_type": "code",
   "execution_count": 76,
   "metadata": {},
   "outputs": [
    {
     "data": {
      "text/plain": [
       "[<matplotlib.lines.Line2D at 0x1164a0e10>]"
      ]
     },
     "execution_count": 76,
     "metadata": {},
     "output_type": "execute_result"
    },
    {
     "data": {
      "image/png": "[encoded data removed]",
      "text/plain": [
       "<matplotlib.figure.Figure at 0x116547ac8>"
      ]
     },
     "metadata": {},
     "output_type": "display_data"
    }
   ],
   "source": [
    "#Nr of steps per episode\n",
    "plt.plot(steps_list)"
   ]
  }
 ],
 "metadata": {
  "kernelspec": {
   "display_name": "Python 3",
   "language": "python",
   "name": "python3"
  },
  "language_info": {
   "codemirror_mode": {
    "name": "ipython",
    "version": 3
   },
   "file_extension": ".py",
   "mimetype": "text/x-python",
   "name": "python",
   "nbconvert_exporter": "python",
   "pygments_lexer": "ipython3",
   "version": "3.6.2"
  }
 },
 "nbformat": 4,
 "nbformat_minor": 2
}
